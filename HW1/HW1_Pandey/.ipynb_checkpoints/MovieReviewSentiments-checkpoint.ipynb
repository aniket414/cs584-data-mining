{
 "cells": [
  {
   "cell_type": "markdown",
   "metadata": {
    "id": "C9CHdWhScQV2"
   },
   "source": [
    "Importing Packages and Library\n",
    "\n",
    "1. Numpy for working mathematical operations on arrays\n",
    "2. BeautifulSoup for cleaning text\n",
    "3. TfidfVectorizer for Term Frequency - Inverse Document Frequency\n",
    "4. RE for working on Regular Expression\n",
    "5. Various libraries of NLTK for preprocessing data\n",
    "6. Matplotlib for plotting graphs\n",
    "7. Counter for working on hashable objects"
   ]
  },
  {
   "cell_type": "code",
   "execution_count": 1,
   "metadata": {
    "colab": {
     "base_uri": "https://localhost:8080/"
    },
    "id": "06i605yVbS_d",
    "outputId": "b98c518c-7227-46d1-83a0-994698d6c2b8"
   },
   "outputs": [
    {
     "name": "stderr",
     "output_type": "stream",
     "text": [
      "[nltk_data] Downloading package stopwords to\n",
      "[nltk_data]     /Users/aniket/nltk_data...\n",
      "[nltk_data]   Package stopwords is already up-to-date!\n"
     ]
    }
   ],
   "source": [
    "import numpy as np\n",
    "from sklearn.feature_extraction.text import TfidfVectorizer\n",
    "from bs4 import BeautifulSoup\n",
    "import re\n",
    "import nltk\n",
    "nltk.download(\"stopwords\")\n",
    "from nltk.corpus import stopwords \n",
    "from nltk.tokenize.toktok import ToktokTokenizer\n",
    "from nltk.stem import LancasterStemmer\n",
    "import matplotlib.pyplot as plt\n",
    "from collections import Counter"
   ]
  },
  {
   "cell_type": "markdown",
   "metadata": {
    "id": "vlSZ41Otd5Wy"
   },
   "source": [
    "Read Train and Test File"
   ]
  },
  {
   "cell_type": "code",
   "execution_count": 2,
   "metadata": {
    "id": "kdh0oSQYbbdV"
   },
   "outputs": [],
   "source": [
    "with open(\"train_new.dat\", \"r\", encoding = \"utf-8\") as trainingFileReader:\n",
    "    trainingFile = trainingFileReader.readlines()\n",
    "    \n",
    "with open(\"test_new.dat\", \"r\", encoding = \"utf-8\") as testingFileReader:\n",
    "    testingFile = testingFileReader.readlines()"
   ]
  },
  {
   "cell_type": "markdown",
   "metadata": {
    "id": "4NDetp_VeGPf"
   },
   "source": [
    "Spliting the training file into two files: Reviews and Sentiments "
   ]
  },
  {
   "cell_type": "code",
   "execution_count": 3,
   "metadata": {
    "colab": {
     "base_uri": "https://localhost:8080/"
    },
    "id": "3_wEvaXBbfkw",
    "outputId": "44512949-31fc-4807-d351-ad52b9fed110"
   },
   "outputs": [
    {
     "name": "stdout",
     "output_type": "stream",
     "text": [
      "Count of Train Sentiments:  25000\n",
      "Count of Train Reviews:  25000\n",
      "Count of Test Reviews:  25000\n"
     ]
    }
   ],
   "source": [
    "trainSentiments = [x.split(\"\\t\", 1)[0] for x in trainingFile]\n",
    "trainReviews = [x.split(\"\\t\", 1)[1] for x in trainingFile]\n",
    "print(\"Count of Train Sentiments: \", len(trainSentiments))\n",
    "print(\"Count of Train Reviews: \", len(trainReviews))\n",
    "print(\"Count of Test Reviews: \", len(testingFile))"
   ]
  },
  {
   "cell_type": "markdown",
   "metadata": {
    "id": "_H_ay0MDeNj-"
   },
   "source": [
    "Remove Noise from the data using below cleaning methods\n",
    "1. Remove HTML Scripts\n",
    "2. Remove Brackets, Special Characters"
   ]
  },
  {
   "cell_type": "code",
   "execution_count": 4,
   "metadata": {
    "id": "hFXfD53ebiTf"
   },
   "outputs": [],
   "source": [
    "#Removing HTML Scripts\n",
    "def removeHTML(review):\n",
    "    beautifulSoup = BeautifulSoup(review, \"html.parser\")\n",
    "    return beautifulSoup.get_text()\n",
    "\n",
    "#Removing Brackets\n",
    "def removeBrackets(review):\n",
    "    return re.sub(\"\\[[^]]*\\]\", \"\", review)\n",
    "\n",
    "#Removing Special Characters\n",
    "def removeSpecialCharacters(review):\n",
    "    pattern = r\"[^a-zA-z0-9\\s]\"\n",
    "    review = re.sub(pattern, \"\", review)\n",
    "    return review\n",
    "\n",
    "#Removing Noisy data\n",
    "def removeNoisyData(review):\n",
    "    review = removeHTML(review)\n",
    "    review = removeBrackets(review)\n",
    "    review = removeSpecialCharacters(review)\n",
    "    return review"
   ]
  },
  {
   "cell_type": "markdown",
   "metadata": {
    "id": "220c_Mw8eUsk"
   },
   "source": [
    "Pass the Train and Test Review data to above function so as to remove Noise from them"
   ]
  },
  {
   "cell_type": "code",
   "execution_count": 5,
   "metadata": {
    "id": "RZt8-F33boBP"
   },
   "outputs": [],
   "source": [
    "#Remove Noise from Review column of both Train and Test data\n",
    "trainReviewsWithoutNoise = list(map(removeNoisyData, trainReviews))\n",
    "testReviewsWithoutNoise = list(map(removeNoisyData, testingFile))"
   ]
  },
  {
   "cell_type": "markdown",
   "metadata": {
    "id": "ClnomMBpe_pM"
   },
   "source": [
    "Initialized Global objects so multiple instances are not created"
   ]
  },
  {
   "cell_type": "code",
   "execution_count": 6,
   "metadata": {
    "id": "H3YgUdvmbt0T"
   },
   "outputs": [],
   "source": [
    "#Tokenizing text initialization outside function so that multiple instances are not created\n",
    "tokenizer = ToktokTokenizer()\n",
    "\n",
    "#Stemming text initialization outside function so that multiple instances are not created\n",
    "lancasterStemmer = LancasterStemmer()\n",
    "\n",
    "#List of stopwords\n",
    "listOfStopwords = stopwords.words(\"english\")"
   ]
  },
  {
   "cell_type": "markdown",
   "metadata": {
    "id": "vhx1nrw-fLXj"
   },
   "source": [
    "Preprocess data using below methods\n",
    "1. Remove Stopwords\n",
    "2. Stemm the words"
   ]
  },
  {
   "cell_type": "code",
   "execution_count": 7,
   "metadata": {
    "id": "1WJS_J6RbxKT"
   },
   "outputs": [],
   "source": [
    "#Removing the stopwords from Review\n",
    "def removeStopwords(review):\n",
    "    reviewTokens = tokenizer.tokenize(review)\n",
    "    reviewTokens = [token.strip() for token in reviewTokens]\n",
    "    cleanTokens = [token for token in reviewTokens if token.lower() not in listOfStopwords]\n",
    "    cleanReview = \" \".join(cleanTokens)    \n",
    "    return cleanReview\n",
    "\n",
    "#Stemming the Review\n",
    "def stemming(review):\n",
    "    review = \" \".join([lancasterStemmer.stem(word) for word in review.split()])\n",
    "    return review\n",
    "\n",
    "#Preprocess the Review once Noise has been removed\n",
    "def preProcess(review):\n",
    "    review = removeStopwords(review)\n",
    "    review = stemming(review)\n",
    "    return review"
   ]
  },
  {
   "cell_type": "markdown",
   "metadata": {
    "id": "x8-MHOLLfg5U"
   },
   "source": [
    "Pass the Train and Test Review data to above function so as to Pre-Process them"
   ]
  },
  {
   "cell_type": "code",
   "execution_count": 8,
   "metadata": {
    "id": "rK-Fz2dUb0bX"
   },
   "outputs": [],
   "source": [
    "#Preprocess Review column of both Train and Test data\n",
    "trainReviewsPreProcessed = list(map(preProcess, trainReviewsWithoutNoise))\n",
    "testReviewsPreProcessed = list(map(preProcess, testReviewsWithoutNoise))"
   ]
  },
  {
   "cell_type": "markdown",
   "metadata": {
    "id": "RZnE55Qjggad"
   },
   "source": [
    "termFrequencyIDF()\n",
    "\n",
    "*   Input: Train and Test Review Data\n",
    "*   Output: L2 normalized sparse matrix with TF-IDF values\n",
    "\n",
    "---\n",
    "cosineSimilarities()\n",
    "\n",
    "*   Input: L2 normalized Train and Test Matrix\n",
    "*   Output: Cosine similarity between Test and Train Matrix\n",
    "\n",
    "---\n",
    "kNearestNeighbours()\n",
    "\n",
    "*   Returns k Nearest Neighbours\n",
    "\n",
    "---\n",
    "predictSentiment()\n",
    "\n",
    "*   Input: k Nearest Neighbours and calculates positive and negative neighbours"
   ]
  },
  {
   "cell_type": "code",
   "execution_count": 9,
   "metadata": {
    "id": "y8XU1jpkb1ix"
   },
   "outputs": [],
   "source": [
    "def termFrequencyIDF(trainReview, testReview):\n",
    "    vectorizer = TfidfVectorizer(norm = \"l2\")\n",
    "    trainVectorMatrix = vectorizer.fit_transform(trainReview)\n",
    "    testVectorMatrix = vectorizer.transform(testReview)\n",
    "    return trainVectorMatrix, testVectorMatrix\n",
    "\n",
    "def cosineSimilarities(trainVectorMatrix, testVectorMatrix):\n",
    "    transposedTrainVector = np.transpose(trainVectorMatrix)\n",
    "    cosineSimilaritiesOfReviews = np.dot(testVectorMatrix, transposedTrainVector)\n",
    "    return cosineSimilaritiesOfReviews.toarray()        \n",
    "\n",
    "def kNearestNeighbours(reviewSimilarity, k):\n",
    "    return np.argsort(-reviewSimilarity)[:k]    \n",
    "\n",
    "def predictSentiment(kNearestNeighbours, sentiments):\n",
    "    positiveSentiment, negativeSentiment = 0, 0\n",
    "    for nearestNeighbour in kNearestNeighbours:\n",
    "        if int(sentiments[nearestNeighbour]) == 1:\n",
    "            positiveSentiment += 1\n",
    "        else:\n",
    "            negativeSentiment += 1\n",
    "    return \"+1\" if (positiveSentiment >= negativeSentiment) else \"-1\""
   ]
  },
  {
   "cell_type": "code",
   "execution_count": 10,
   "metadata": {
    "id": "jmJjpXJPb65k"
   },
   "outputs": [],
   "source": [
    "trainReviewsMatrix, testReviewsMatrix = termFrequencyIDF(trainReviewsPreProcessed, testReviewsPreProcessed)"
   ]
  },
  {
   "cell_type": "code",
   "execution_count": 11,
   "metadata": {
    "id": "BiDqIGZDvcQA"
   },
   "outputs": [],
   "source": [
    "reviewSimilarities = cosineSimilarities(trainReviewsMatrix, testReviewsMatrix)"
   ]
  },
  {
   "cell_type": "markdown",
   "metadata": {
    "id": "NtI4nxCof1dz"
   },
   "source": [
    "Actual Prediction for the Test Reviews"
   ]
  },
  {
   "cell_type": "code",
   "execution_count": 12,
   "metadata": {
    "id": "vWeR-duIb-XI"
   },
   "outputs": [],
   "source": [
    "k = 158 #sqrt(25000) = 158 (Approx)\n",
    "testSentiments = list()\n",
    "\n",
    "for reviewSimilarity in reviewSimilarities:\n",
    "    kNN = kNearestNeighbours(reviewSimilarity, k)\n",
    "    prediction = predictSentiment(kNN, trainSentiments)\n",
    "    testSentiments.append(prediction)"
   ]
  },
  {
   "cell_type": "markdown",
   "metadata": {
    "id": "I-wCbQ4Df86k"
   },
   "source": [
    "Writing the predicted Sentiments of Test Review in a file"
   ]
  },
  {
   "cell_type": "code",
   "execution_count": 13,
   "metadata": {
    "id": "PDe2K_G-cDVz"
   },
   "outputs": [],
   "source": [
    "sentimentFileWriter = open(\"format.dat\", \"w\")\n",
    "sentimentFileWriter.writelines(\"%s\\n\" % sentiment for sentiment in testSentiments)\n",
    "sentimentFileWriter.close()"
   ]
  },
  {
   "cell_type": "markdown",
   "metadata": {
    "id": "Pmc79yfpgLNX"
   },
   "source": [
    "Plotting Pie Chart for Visualization of Predicted Sentiments"
   ]
  },
  {
   "cell_type": "code",
   "execution_count": 14,
   "metadata": {
    "id": "mddO6P1BcJVr"
   },
   "outputs": [
    {
     "data": {
      "image/png": "[encoded data removed]",
      "text/plain": [
       "<Figure size 432x288 with 1 Axes>"
      ]
     },
     "metadata": {},
     "output_type": "display_data"
    }
   ],
   "source": [
    "sentiments = Counter(testSentiments).keys()\n",
    "sentimentsCount = Counter(testSentiments).values()\n",
    "plt.pie(sentimentsCount, labels = sentimentsCount, shadow = True, autopct = \"%1.1f%%\")\n",
    "plt.legend(sentiments, title = \"Sentiments\", loc = \"center right\", bbox_to_anchor = (1, 0, 0.5, 1))\n",
    "plt.title(\"Movie Review Sentiments\")\n",
    "plt.show()"
   ]
  }
 ],
 "metadata": {
  "colab": {
   "name": "MovieReviewSentiments.ipynb",
   "provenance": []
  },
  "kernelspec": {
   "display_name": "Python 3",
   "language": "python",
   "name": "python3"
  },
  "language_info": {
   "codemirror_mode": {
    "name": "ipython",
    "version": 3
   },
   "file_extension": ".py",
   "mimetype": "text/x-python",
   "name": "python",
   "nbconvert_exporter": "python",
   "pygments_lexer": "ipython3",
   "version": "3.8.8"
  }
 },
 "nbformat": 4,
 "nbformat_minor": 4
}
